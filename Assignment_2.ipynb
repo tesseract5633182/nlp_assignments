{
 "cells": [
  {
   "cell_type": "markdown",
   "id": "a02259dc",
   "metadata": {},
   "source": [
    "Question bank : https://drive.google.com/file/d/1KW4PqinXiJQ2t8UTirjN6c_B1yY0UNu3/view"
   ]
  },
  {
   "cell_type": "markdown",
   "id": "768128c1",
   "metadata": {},
   "source": [
    "<b>Q.1 What are Corpora?"
   ]
  },
  {
   "cell_type": "markdown",
   "id": "318d545d",
   "metadata": {},
   "source": [
    "Ans : It is a collection of documents"
   ]
  },
  {
   "cell_type": "markdown",
   "id": "b23ad943",
   "metadata": {},
   "source": [
    "<b>Q.2 What are Tokens?"
   ]
  },
  {
   "cell_type": "markdown",
   "id": "6ec38eb9",
   "metadata": {},
   "source": [
    "Ans : A smaller unit of piece, it could be words, characters, subwords etc"
   ]
  },
  {
   "cell_type": "markdown",
   "id": "33b41ae4",
   "metadata": {},
   "source": [
    "<b>Q.3 What are Unigrams, Bigrams, Trigrams?"
   ]
  },
  {
   "cell_type": "markdown",
   "id": "dcadb620",
   "metadata": {},
   "source": [
    "Ans :- Unigram is a sequence of 1 word, Bigrams are sequence of 2 words, trigrams are sequence of 3 words<br>\n"
   ]
  },
  {
   "cell_type": "markdown",
   "id": "c5efb8aa",
   "metadata": {},
   "source": [
    "<b>Q.4 How to generate n-grams from text?"
   ]
  },
  {
   "cell_type": "code",
   "execution_count": 5,
   "id": "22feb608",
   "metadata": {},
   "outputs": [
    {
     "name": "stdout",
     "output_type": "stream",
     "text": [
      "('this', 'is', 'a', 'foo', 'bar', 'sentences')\n",
      "('is', 'a', 'foo', 'bar', 'sentences', 'and')\n",
      "('a', 'foo', 'bar', 'sentences', 'and', 'i')\n",
      "('foo', 'bar', 'sentences', 'and', 'i', 'want')\n",
      "('bar', 'sentences', 'and', 'i', 'want', 'to')\n",
      "('sentences', 'and', 'i', 'want', 'to', 'ngramize')\n",
      "('and', 'i', 'want', 'to', 'ngramize', 'it')\n"
     ]
    }
   ],
   "source": [
    "from nltk import ngrams\n",
    "\n",
    "sentence = 'this is a foo bar sentences and i want to ngramize it'\n",
    "\n",
    "n = 6\n",
    "sixgrams = ngrams(sentence.split(\" \"), n)\n",
    "\n",
    "for grams in sixgrams:\n",
    "    print (grams)"
   ]
  },
  {
   "cell_type": "markdown",
   "id": "30b34a05",
   "metadata": {},
   "source": [
    "<b>Q.5 Explain Lemmatization"
   ]
  },
  {
   "cell_type": "markdown",
   "id": "a8d5000c",
   "metadata": {},
   "source": [
    "Ans : Lemmatization is one of the most common text pre-processing techniques used in Natural Language Processing (NLP) and machine learning in general. In lemmatization, we try to reduce a given word to its root word. The root word is called a lemma in the lemmatization process. Lemmatization algorithm would know that the word better is derived from the word good, and hence, the lemme is good."
   ]
  },
  {
   "cell_type": "markdown",
   "id": "37d5af1e",
   "metadata": {},
   "source": [
    "<b>Q.6 Explain Stemming"
   ]
  },
  {
   "cell_type": "markdown",
   "id": "4255f166",
   "metadata": {},
   "source": [
    "Stemming is a natural language processing technique that lowers inflection in words to their root forms, hence aiding in the preprocessing of text, words, and documents for text normalization."
   ]
  },
  {
   "cell_type": "markdown",
   "id": "b5cd7a17",
   "metadata": {},
   "source": [
    "<b> Q.7 Explain Part-of-speech (POS) tagging"
   ]
  },
  {
   "cell_type": "markdown",
   "id": "5101496f",
   "metadata": {},
   "source": [
    "Parts of speech tags are the properties of the words, which define their main context, functions, and usage in a sentence \n",
    "arts of speech tags have a large number of applications and they are used in a variety of tasks such as Text Cleaning, Feature Engineering tasks, Word sense disambiguation.\n",
    "Tagging is a kind of classification that may be defined as the automatic assignment of description to the tokens. Here the descriptor is called tag, which may represent one of the part-of-speech, semantic information and so on.\n",
    "\n",
    "Now, if we talk about Part-of-Speech (PoS) tagging, then it may be defined as the process of assigning one of the parts of speech to the given word. It is generally called POS tagging. In simple words, we can say that POS tagging is a task of labelling each word in a sentence with its appropriate part of speech. We already know that parts of speech include nouns, verb, adverbs, adjectives, pronouns, conjunction and their sub-categories."
   ]
  },
  {
   "cell_type": "markdown",
   "id": "81b4d744",
   "metadata": {},
   "source": [
    "<b>Q.8 Explain Chunking or shallow parsing"
   ]
  },
  {
   "cell_type": "markdown",
   "id": "43f072a1",
   "metadata": {},
   "source": [
    "Ans :-Chunking is used to get the required phrases from a given sentence. However, POS tagging can be used only to spot the parts of speech that every word of the sentence belongs to. When we have loads of descriptions or modifications around a particular word or the phrase of our interest, we use chunking to grab the required phrase alone, ignoring the rest around it. Hence, chunking paves a way to group the required phrases and exclude all the modifiers around them which are not necessary for our analysis. Summing up, chunking helps us extract the important words alone from lengthy descriptions. Thus, chunking is a step in information extraction. Interestingly, this process of chunking in NLP is extended to various other applications; for instance, to group fruits of a specific category, say, fruits rich in proteins as a group, fruits rich in vitamins as another group, and so on. Besides, chunking can also be used to group similar cars, say, cars supporting auto-gear into one group and the others which support manual gear into another chunk and so on."
   ]
  },
  {
   "cell_type": "markdown",
   "id": "dd5f9afe",
   "metadata": {},
   "source": [
    "<b>Q.9 Explain Noun Phrase (NP) chunking"
   ]
  },
  {
   "cell_type": "markdown",
   "id": "8d238eae",
   "metadata": {},
   "source": [
    "Text chunking is dividing sentences into non-overlapping phrases. Noun phrase chunking deals with extracting the noun phrases from a sentence. While NP chunking is much simpler than parsing, it is still a challenging task to build a accurate and very efficient NP chunker."
   ]
  },
  {
   "cell_type": "markdown",
   "id": "2be7b448",
   "metadata": {},
   "source": [
    "<b>Q.10 Explain Named Entity Recognition"
   ]
  },
  {
   "cell_type": "markdown",
   "id": "c5926045",
   "metadata": {},
   "source": [
    "Named entity recognition is a natural language processing technique that can automatically scan entire articles and pull out some fundamental entities in a text and classify them into predefined categories. Named Entity Recognition is the process of detecting the named entities such as person names, location names, company names, etc from the text."
   ]
  },
  {
   "cell_type": "code",
   "execution_count": null,
   "id": "a1cdd442",
   "metadata": {},
   "outputs": [],
   "source": []
  },
  {
   "cell_type": "code",
   "execution_count": null,
   "id": "29c30771",
   "metadata": {},
   "outputs": [],
   "source": []
  }
 ],
 "metadata": {
  "kernelspec": {
   "display_name": "Python 3 (ipykernel)",
   "language": "python",
   "name": "python3"
  },
  "language_info": {
   "codemirror_mode": {
    "name": "ipython",
    "version": 3
   },
   "file_extension": ".py",
   "mimetype": "text/x-python",
   "name": "python",
   "nbconvert_exporter": "python",
   "pygments_lexer": "ipython3",
   "version": "3.9.7"
  }
 },
 "nbformat": 4,
 "nbformat_minor": 5
}
